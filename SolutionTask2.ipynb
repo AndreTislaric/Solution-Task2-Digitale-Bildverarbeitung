print("Solution for Task2")
